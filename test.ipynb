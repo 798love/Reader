{
 "cells": [
  {
   "cell_type": "code",
   "execution_count": 5,
   "metadata": {},
   "outputs": [
    {
     "name": "stdout",
     "output_type": "stream",
     "text": [
      "utf-8\n"
     ]
    }
   ],
   "source": [
    "import chardet\n",
    "with open('storage_local/《遮天》（精校版全本）作者：辰东.txt','r',encoding='utf-8') as f:\n",
    "    print(f.read()[:500])\n",
    "\n",
    "\n",
    "\n"
   ]
  },
  {
   "cell_type": "markdown",
   "metadata": {},
   "source": [
    "{% load static %}\n",
    "      {% for book in book_list %}\n",
    "\n",
    "      <div class=\"col-4 col-lg-2\" >\n",
    "        <a href=\"{% url 'reader:book' book.id %}\" style=\"text-decoration: none;color:#333;\">\n",
    "          <div class=\"card mb-4 border-0\" >\n",
    "            <img src=\"{% static 'images/1.jpg' %}\" class=\"w-100 h-100 mb-0 me-0\"> \n",
    "            <div class=\"text-break w-100 overflow-hidden mt-4 book-tittle\">\n",
    "                  {{ book.name }}\n",
    "                 \n",
    "                </div>\n",
    "            <div class=\"card-body\">\n",
    "              <p class=\"card-text\">123</p>\n",
    "            </div>\n",
    "          </div>\n",
    "        </a>\n",
    "      </div>\n",
    "\n",
    "      {% endfor %}"
   ]
  }
 ],
 "metadata": {
  "kernelspec": {
   "display_name": "Python 3",
   "language": "python",
   "name": "python3"
  },
  "language_info": {
   "codemirror_mode": {
    "name": "ipython",
    "version": 3
   },
   "file_extension": ".py",
   "mimetype": "text/x-python",
   "name": "python",
   "nbconvert_exporter": "python",
   "pygments_lexer": "ipython3",
   "version": "3.12.1"
  }
 },
 "nbformat": 4,
 "nbformat_minor": 2
}
